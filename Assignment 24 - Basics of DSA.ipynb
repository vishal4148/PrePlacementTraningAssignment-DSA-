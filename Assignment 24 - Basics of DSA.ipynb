{
 "cells": [
  {
   "cell_type": "markdown",
   "id": "29f9ba22",
   "metadata": {},
   "source": [
    "#### 1:Roman to Integer\n",
    "Roman numerals are represented by seven different symbols: I, V, X, L, C, D and M.\n",
    "\n",
    "SymbolValue\n",
    "I             1\n",
    "V             5\n",
    "X             10\n",
    "L             50\n",
    "C             100\n",
    "D             500\n",
    "M             1000\n",
    "For example, 2 is written as II in Roman numeral, just two ones added together. 12 is written as XII, which is simply X + II. The number 27 is written as XXVII, which is XX + V + II.\n",
    "\n",
    "Roman numerals are usually written largest to smallest from left to right. However, the numeral for four is not IIII. Instead, the number four is written as IV. Because the one is before the five we subtract it making four. The same principle applies to the number nine, which is written as IX. There are six instances where subtraction is used:\n",
    "\n",
    "I can be placed before V (5) and X (10) to make 4 and 9.\n",
    "X can be placed before L (50) and C (100) to make 40 and 90.\n",
    "C can be placed before D (500) and M (1000) to make 400 and 900.\n",
    "Given a roman numeral, convert it to an integer.\n",
    "\n",
    "Example 1:\n",
    "\n",
    "Input: s = \"III\"\n",
    "Output: 3\n",
    "Explanation: III = 3."
   ]
  },
  {
   "cell_type": "code",
   "execution_count": 1,
   "id": "266539d1",
   "metadata": {},
   "outputs": [
    {
     "name": "stdout",
     "output_type": "stream",
     "text": [
      "3\n"
     ]
    }
   ],
   "source": [
    "def romanToInt(s):\n",
    "    roman_values = {\n",
    "        'I': 1,\n",
    "        'V': 5,\n",
    "        'X': 10,\n",
    "        'L': 50,\n",
    "        'C': 100,\n",
    "        'D': 500,\n",
    "        'M': 1000\n",
    "    }\n",
    "    \n",
    "    total = 0\n",
    "    prev_value = 0\n",
    "    \n",
    "    for symbol in s:\n",
    "        value = roman_values[symbol]\n",
    "        if value > prev_value:\n",
    "            total += value - 2 * prev_value\n",
    "        else:\n",
    "            total += value\n",
    "        prev_value = value\n",
    "        \n",
    "    return total\n",
    "\n",
    "s = \"III\"\n",
    "print(romanToInt(s)) "
   ]
  },
  {
   "cell_type": "code",
   "execution_count": null,
   "id": "0f5d5797",
   "metadata": {},
   "outputs": [],
   "source": []
  },
  {
   "cell_type": "markdown",
   "id": "f2294759",
   "metadata": {},
   "source": [
    "#### 2:Longest Substring Without Repeating Characters\n",
    "Given a string s, find the length of the longest substring without repeating characters.\n",
    "\n",
    "Example 1:\n",
    "\n",
    "Input: s = \"abcabcbb\"\n",
    "Output: 3\n",
    "Explanation: The answer is \"abc\", with the length of 3.\n",
    "Example 2:\n",
    "\n",
    "Input: s = \"bbbbb\"\n",
    "Output: 1\n",
    "Explanation: The answer is \"b\", with the length of 1."
   ]
  },
  {
   "cell_type": "code",
   "execution_count": 2,
   "id": "41a399d1",
   "metadata": {},
   "outputs": [
    {
     "name": "stdout",
     "output_type": "stream",
     "text": [
      "3\n"
     ]
    }
   ],
   "source": [
    "def lengthOfLongestSubstring(s):\n",
    "    if not s:\n",
    "        return 0\n",
    "\n",
    "    char_index_map = {}\n",
    "    max_length = 0\n",
    "    start = 0\n",
    "\n",
    "    for end, char in enumerate(s):\n",
    "        if char in char_index_map and char_index_map[char] >= start:\n",
    "            start = char_index_map[char] + 1\n",
    "\n",
    "        char_index_map[char] = end\n",
    "        current_length = end - start + 1\n",
    "        max_length = max(max_length, current_length)\n",
    "\n",
    "    return max_length\n",
    "\n",
    "s = \"abcabcbb\"\n",
    "print(lengthOfLongestSubstring(s)) "
   ]
  },
  {
   "cell_type": "code",
   "execution_count": null,
   "id": "986fd76c",
   "metadata": {},
   "outputs": [],
   "source": []
  },
  {
   "cell_type": "markdown",
   "id": "7b777873",
   "metadata": {},
   "source": [
    "#### 3:Majority Element\n",
    "Given an array nums of size n, return the majority element.\n",
    "\n",
    "The majority element is the element that appears more than ⌊n / 2⌋ times. You may assume that the majority element always exists in the array.\n",
    "\n",
    "Example 1:\n",
    "\n",
    "Input: nums = [3,2,3]\n",
    "Output: 3"
   ]
  },
  {
   "cell_type": "code",
   "execution_count": 3,
   "id": "10299252",
   "metadata": {},
   "outputs": [
    {
     "name": "stdout",
     "output_type": "stream",
     "text": [
      "3\n"
     ]
    }
   ],
   "source": [
    "def majorityElement(nums):\n",
    "    majority_candidate = None\n",
    "    count = 0\n",
    "\n",
    "    for num in nums:\n",
    "        if count == 0:\n",
    "            majority_candidate = num\n",
    "        count += 1 if num == majority_candidate else -1\n",
    "\n",
    "    return majority_candidate\n",
    "\n",
    "nums = [3, 2, 3]\n",
    "print(majorityElement(nums))  "
   ]
  },
  {
   "cell_type": "code",
   "execution_count": null,
   "id": "21f466f8",
   "metadata": {},
   "outputs": [],
   "source": []
  },
  {
   "cell_type": "markdown",
   "id": "55d08153",
   "metadata": {},
   "source": [
    "#### 4:Group Anagram\n",
    "Given an array of strings strs, group the anagrams together. You can return the answer in any order.\n",
    "\n",
    "An Anagram is a word or phrase formed by rearranging the letters of a different word or phrase, typically using all the original letters exactly once.\n",
    "\n",
    "Example 1:\n",
    "\n",
    "Input: strs = [\"eat\",\"tea\",\"tan\",\"ate\",\"nat\",\"bat\"]\n",
    "Output: [[\"bat\"],[\"nat\",\"tan\"],[\"ate\",\"eat\",\"tea\"]]"
   ]
  },
  {
   "cell_type": "code",
   "execution_count": 4,
   "id": "9f449abf",
   "metadata": {},
   "outputs": [
    {
     "name": "stdout",
     "output_type": "stream",
     "text": [
      "[['eat', 'tea', 'ate'], ['tan', 'nat'], ['bat']]\n"
     ]
    }
   ],
   "source": [
    "def groupAnagrams(strs):\n",
    "    anagram_groups = {}\n",
    "    \n",
    "    for word in strs:\n",
    "        sorted_word = ''.join(sorted(word))\n",
    "        if sorted_word in anagram_groups:\n",
    "            anagram_groups[sorted_word].append(word)\n",
    "        else:\n",
    "            anagram_groups[sorted_word] = [word]\n",
    "    \n",
    "    return list(anagram_groups.values())\n",
    "\n",
    "strs = [\"eat\", \"tea\", \"tan\", \"ate\", \"nat\", \"bat\"]\n",
    "print(groupAnagrams(strs))"
   ]
  },
  {
   "cell_type": "code",
   "execution_count": null,
   "id": "e8b015e2",
   "metadata": {},
   "outputs": [],
   "source": []
  },
  {
   "cell_type": "markdown",
   "id": "c7c1e00b",
   "metadata": {},
   "source": [
    "#### 5:Ugly Numbers\n",
    "An ugly number is a positive integer whose prime factors are limited to 2, 3, and 5.\n",
    "\n",
    "Given an integer n, return the nth *ugly number*.\n",
    "\n",
    "Example 1:\n",
    "\n",
    "Input: n = 10\n",
    "Output: 12\n",
    "Explanation: [1, 2, 3, 4, 5, 6, 8, 9, 10, 12] is the sequence of the first 10 ugly numbers.\n",
    "Example 2:\n",
    "\n",
    "Input: n = 1\n",
    "Output: 1\n",
    "Explanation: 1 has no prime factors, therefore all of its prime factors are limited to 2, 3, and 5."
   ]
  },
  {
   "cell_type": "code",
   "execution_count": 5,
   "id": "13464c09",
   "metadata": {},
   "outputs": [
    {
     "name": "stdout",
     "output_type": "stream",
     "text": [
      "12\n"
     ]
    }
   ],
   "source": [
    "def nthUglyNumber(n):\n",
    "    if n <= 0:\n",
    "        return None\n",
    "    \n",
    "    ugly_numbers = [1]\n",
    "    idx_2, idx_3, idx_5 = 0, 0, 0\n",
    "\n",
    "    while len(ugly_numbers) < n:\n",
    "        next_ugly = min(ugly_numbers[idx_2] * 2, ugly_numbers[idx_3] * 3, ugly_numbers[idx_5] * 5)\n",
    "        ugly_numbers.append(next_ugly)\n",
    "\n",
    "        if ugly_numbers[idx_2] * 2 == next_ugly:\n",
    "            idx_2 += 1\n",
    "        if ugly_numbers[idx_3] * 3 == next_ugly:\n",
    "            idx_3 += 1\n",
    "        if ugly_numbers[idx_5] * 5 == next_ugly:\n",
    "            idx_5 += 1\n",
    "\n",
    "    return ugly_numbers[-1]\n",
    "\n",
    "\n",
    "n = 10\n",
    "print(nthUglyNumber(n)) "
   ]
  },
  {
   "cell_type": "code",
   "execution_count": null,
   "id": "37dc2238",
   "metadata": {},
   "outputs": [],
   "source": []
  },
  {
   "cell_type": "markdown",
   "id": "64c16521",
   "metadata": {},
   "source": [
    "#### 6:Top K Frequent Words\n",
    "Given an array of strings words and an integer k, return the k most frequent strings.\n",
    "\n",
    "Return the answer sorted by the frequency from highest to lowest. Sort the words with the same frequency by their lexicographical order.\n",
    "\n",
    "Example 1:\n",
    "\n",
    "Input: words = [\"i\",\"love\",\"leetcode\",\"i\",\"love\",\"coding\"], k = 2\n",
    "Output: [\"i\",\"love\"]\n",
    "Explanation: \"i\" and \"love\" are the two most frequent words.\n",
    "Note that \"i\" comes before \"love\" due to a lower alphabetical order.\n",
    "Example 2:\n",
    "\n",
    "Input: words = [\"the\",\"day\",\"is\",\"sunny\",\"the\",\"the\",\"the\",\"sunny\",\"is\",\"is\"], k = 4\n",
    "Output: [\"the\",\"is\",\"sunny\",\"day\"]\n",
    "Explanation: \"the\", \"is\", \"sunny\" and \"day\" are the four most frequent words, with the number of occurrence being 4, 3, 2 and 1 respectively.\n",
    "Constraints:\n",
    "\n",
    "1 <= words.length <= 500\n",
    "1 <= words[i].length <= 10\n",
    "words[i] consists of lowercase English letters.\n",
    "k is in the range [1, The number of **unique** words[i]]"
   ]
  },
  {
   "cell_type": "code",
   "execution_count": 6,
   "id": "e517e6cc",
   "metadata": {},
   "outputs": [
    {
     "name": "stdout",
     "output_type": "stream",
     "text": [
      "['i', 'love']\n"
     ]
    }
   ],
   "source": [
    "def topKFrequent(words, k):\n",
    "    word_count = {}\n",
    "    for word in words:\n",
    "        word_count[word] = word_count.get(word, 0) + 1\n",
    "\n",
    "    sorted_words = sorted(word_count.keys(), key=lambda word: (-word_count[word], word))\n",
    "    return sorted_words[:k]\n",
    "\n",
    "words = [\"i\", \"love\", \"leetcode\", \"i\", \"love\", \"coding\"]\n",
    "k = 2\n",
    "print(topKFrequent(words, k)) "
   ]
  },
  {
   "cell_type": "markdown",
   "id": "361df6fa",
   "metadata": {},
   "source": [
    "#### 7:Sliding Window Maximum\n",
    "You are given an array of integers nums, there is a sliding window of size k which is moving from the very left of the array to the very right. You can only see the k numbers in the window. Each time the sliding window moves right by one position.\n",
    "\n",
    "Return the max sliding window.\n",
    "\n",
    "Example 1:\n",
    "\n",
    "Input: nums = [1,3,-1,-3,5,3,6,7], k = 3\n",
    "Output: [3,3,5,5,6,7]\n",
    "Explanation:\n",
    "Window position                Max\n",
    "---------------               -----\n",
    "[1  3  -1] -3  5  3  6 7         3\n",
    " 1 [3  -1  -3] 5  3  6 7         3\n",
    " 1  3 [-1  -3  5] 3  6 7         5\n",
    " 1  3  -1 [-3  5  3] 6 7         5\n",
    " 1  3  -1  -3 [5  3  6]7         6\n",
    " 1  3  -1  -3  5 [3  6  7]       7\n",
    "Example 2:\n",
    "\n",
    "Input: nums = [1], k = 1\n",
    "Output: [1]\n",
    "Constraints:\n",
    "\n",
    "1 <= nums.length <= 100000\n",
    "-10000 <= nums[i] <= 10000\n",
    "1 <= k <= nums.length"
   ]
  },
  {
   "cell_type": "code",
   "execution_count": 7,
   "id": "da920461",
   "metadata": {},
   "outputs": [
    {
     "name": "stdout",
     "output_type": "stream",
     "text": [
      "[3, 3, 5, 5, 6, 7]\n"
     ]
    }
   ],
   "source": [
    "from collections import deque\n",
    "\n",
    "def maxSlidingWindow(nums, k):\n",
    "    max_values = []\n",
    "    window = deque()\n",
    "\n",
    "    for i, num in enumerate(nums):\n",
    "        # Remove elements from the front of the deque that are out of the current window\n",
    "        while window and window[0] < i - k + 1:\n",
    "            window.popleft()\n",
    "\n",
    "        # Remove elements from the back of the deque that are less than the current element\n",
    "        while window and nums[window[-1]] < num:\n",
    "            window.pop()\n",
    "\n",
    "        window.append(i)\n",
    "\n",
    "        # Add the maximum element of the current window to the result list\n",
    "        if i >= k - 1:\n",
    "            max_values.append(nums[window[0]])\n",
    "\n",
    "    return max_values\n",
    "\n",
    "nums1 = [1, 3, -1, -3, 5, 3, 6, 7]\n",
    "k1 = 3\n",
    "print(maxSlidingWindow(nums1, k1))"
   ]
  },
  {
   "cell_type": "code",
   "execution_count": null,
   "id": "e96c6ba6",
   "metadata": {},
   "outputs": [],
   "source": []
  },
  {
   "cell_type": "markdown",
   "id": "f34e1649",
   "metadata": {},
   "source": [
    "#### 8:Find K Closest Elements\n",
    "Given a sorted integer array arr, two integers k and x, return the k closest integers to x in the array. The result should also be sorted in ascending order.\n",
    "\n",
    "An integer a is closer to x than an integer b if:\n",
    "\n",
    "|a - x| < |b - x|, or\n",
    "|a - x| == |b - x| and a < b\n",
    "Example 1:\n",
    "\n",
    "Input: arr = [1,2,3,4,5], k = 4, x = 3\n",
    "Output: [1,2,3,4]\n",
    "Example 2:\n",
    "\n",
    "Input: arr = [1,2,3,4,5], k = 4, x = -1\n",
    "Output: [1,2,3,4]\n",
    "Constraints:\n",
    "\n",
    "1 <= k <= arr.length\n",
    "1 <= arr.length <= 10000\n",
    "arr is sorted in ascending order.\n",
    "-10000 <= arr[i], x <= 10000"
   ]
  },
  {
   "cell_type": "code",
   "execution_count": 8,
   "id": "5a53320c",
   "metadata": {},
   "outputs": [
    {
     "name": "stdout",
     "output_type": "stream",
     "text": [
      "[1, 2, 3, 4]\n"
     ]
    }
   ],
   "source": [
    "def findClosestElements(arr, k, x):\n",
    "    left, right = 0, len(arr) - k\n",
    "\n",
    "    while left < right:\n",
    "        mid = (left + right) // 2\n",
    "        if x - arr[mid] > arr[mid + k] - x:\n",
    "            left = mid + 1\n",
    "        else:\n",
    "            right = mid\n",
    "\n",
    "    return arr[left:left + k]\n",
    "\n",
    "arr = [1, 2, 3, 4, 5]\n",
    "k = 4\n",
    "x = 3\n",
    "print(findClosestElements(arr, k, x))  "
   ]
  },
  {
   "cell_type": "code",
   "execution_count": null,
   "id": "8c163558",
   "metadata": {},
   "outputs": [],
   "source": []
  }
 ],
 "metadata": {
  "kernelspec": {
   "display_name": "Python 3 (ipykernel)",
   "language": "python",
   "name": "python3"
  },
  "language_info": {
   "codemirror_mode": {
    "name": "ipython",
    "version": 3
   },
   "file_extension": ".py",
   "mimetype": "text/x-python",
   "name": "python",
   "nbconvert_exporter": "python",
   "pygments_lexer": "ipython3",
   "version": "3.11.2"
  }
 },
 "nbformat": 4,
 "nbformat_minor": 5
}
