{
 "cells": [
  {
   "cell_type": "markdown",
   "id": "5f6b1b6d",
   "metadata": {},
   "source": [
    "#### **Question 1**\n",
    "\n",
    "Given two strings s1 and s2, return *the lowest **ASCII** sum of deleted characters to make two strings equal*.\n",
    "\n",
    "**Example 1:**\n",
    "\n",
    "**Input:** s1 = \"sea\", s2 = \"eat\"\n",
    "\n",
    "**Output:** 231\n",
    "\n",
    "**Explanation:** Deleting \"s\" from \"sea\" adds the ASCII value of \"s\" (115) to the sum.\n",
    "\n",
    "Deleting \"t\" from \"eat\" adds 116 to the sum.\n",
    "\n",
    "At the end, both strings are equal, and 115 + 116 = 231 is the minimum sum possible to achieve this.\n"
   ]
  },
  {
   "cell_type": "code",
   "execution_count": 1,
   "id": "dcb7e01c",
   "metadata": {},
   "outputs": [],
   "source": [
    "def minimumDelSum(s1, s2):\n",
    "    a, b = len(s1), len(s2)\n",
    "    \n",
    "    s = [[0] * (b+1) for _ in range(a+1)]\n",
    "    \n",
    "    for i in range(1, a+1):\n",
    "        s[i][0] = s[i-1][0] + ord(s1[i-1])\n",
    "    \n",
    "    for j in range(1, b+1):\n",
    "        s[0][j] = s[0][j-1] + ord(s2[j-1])\n",
    "    \n",
    "    for i in range(1, a+1):\n",
    "        for j in range(1, b+1):\n",
    "            if s1[i-1] == s2[j-1]:\n",
    "                s[i][j] = s[i-1][j-1]\n",
    "            else:\n",
    "                s[i][j] = min(s[i-1][j] + ord(s1[i-1]), s[i][j-1] + ord(s2[j-1]))\n",
    "    \n",
    "    return s[a][b]\n"
   ]
  },
  {
   "cell_type": "code",
   "execution_count": 2,
   "id": "276eb25c",
   "metadata": {},
   "outputs": [
    {
     "name": "stdout",
     "output_type": "stream",
     "text": [
      "231\n"
     ]
    }
   ],
   "source": [
    "s1 = \"sea\"\n",
    "s2 = \"eat\"\n",
    "print(minimumDelSum(s1, s2))"
   ]
  },
  {
   "cell_type": "code",
   "execution_count": null,
   "id": "732c9a5f",
   "metadata": {},
   "outputs": [],
   "source": []
  },
  {
   "cell_type": "markdown",
   "id": "80e6322d",
   "metadata": {},
   "source": [
    "#### **Question 2**\n",
    "\n",
    "Given a string s containing only three types of characters: '(', ')' and '*', return true *if* s *is **valid***.\n",
    "\n",
    "The following rules define a **valid** string:\n",
    "\n",
    "- Any left parenthesis '(' must have a corresponding right parenthesis ')'.\n",
    "- Any right parenthesis ')' must have a corresponding left parenthesis '('.\n",
    "- Left parenthesis '(' must go before the corresponding right parenthesis ')'.\n",
    "- '*' could be treated as a single right parenthesis ')' or a single left parenthesis '(' or an empty string \"\".\n",
    "\n",
    "**Example 1:**\n",
    "\n",
    "**Input:** s = \"()\"\n",
    "\n",
    "**Output:**\n",
    "\n",
    "true\n"
   ]
  },
  {
   "cell_type": "code",
   "execution_count": 5,
   "id": "cfde6bb8",
   "metadata": {},
   "outputs": [],
   "source": [
    "def checkValidStr(s):\n",
    "    stk = []\n",
    "    \n",
    "    for i in s:\n",
    "        if i in ['(', '*']:\n",
    "            stk.append(i)\n",
    "        elif i == ')':\n",
    "            if stk and stk[-1] in ['(', '*']:\n",
    "                stk.pop()\n",
    "            else:\n",
    "                stk.append(i)\n",
    "    \n",
    "    for i in stk[::-1]:\n",
    "        if i == '(':\n",
    "            return False\n",
    "        elif i == '*':\n",
    "            if ')' in stk:\n",
    "                stk.remove(')')\n",
    "    \n",
    "    return len(stk) == 0"
   ]
  },
  {
   "cell_type": "code",
   "execution_count": 7,
   "id": "ecebff37",
   "metadata": {},
   "outputs": [
    {
     "name": "stdout",
     "output_type": "stream",
     "text": [
      "True\n"
     ]
    }
   ],
   "source": [
    "s = \"()\"\n",
    "print(checkValidStr(s))"
   ]
  },
  {
   "cell_type": "code",
   "execution_count": null,
   "id": "0ba8c4fe",
   "metadata": {},
   "outputs": [],
   "source": []
  },
  {
   "cell_type": "markdown",
   "id": "af378c59",
   "metadata": {},
   "source": [
    "#### Question 3\n",
    "\n",
    "Given two strings word1 and word2, return the minimum number of steps* required to make* word1 and word2 the same.\n",
    "\n",
    "In one step, you can delete exactly one character in either string.\n",
    "\n",
    "Example 1:\n",
    "\n",
    "Input: word1 = \"sea\", word2 = \"eat\"\n",
    "\n",
    "Output: 2\n",
    "\n",
    "Explanation: You need one step to make \"sea\" to \"ea\" and another step to make \"eat\" to \"ea\"."
   ]
  },
  {
   "cell_type": "code",
   "execution_count": 8,
   "id": "d9f15fc8",
   "metadata": {},
   "outputs": [],
   "source": [
    "def set_minDistance(word1, word2):\n",
    "    m, n = len(word1), len(word2)\n",
    "    \n",
    "    a = [[0] * (n+1) for _ in range(m+1)]\n",
    "    \n",
    "    for i in range(m+1):\n",
    "        a[i][0] = i\n",
    "    \n",
    "    for j in range(n+1):\n",
    "        a[0][j] = j\n",
    "    \n",
    "    for i in range(1, m+1):\n",
    "        for j in range(1, n+1):\n",
    "            if word1[i-1] == word2[j-1]:\n",
    "                a[i][j] = a[i-1][j-1]\n",
    "            else:\n",
    "                a[i][j] = min(a[i-1][j] + 1, a[i][j-1] + 1)\n",
    "    \n",
    "    return a[m][n]"
   ]
  },
  {
   "cell_type": "code",
   "execution_count": 9,
   "id": "0423669c",
   "metadata": {},
   "outputs": [
    {
     "name": "stdout",
     "output_type": "stream",
     "text": [
      "2\n"
     ]
    }
   ],
   "source": [
    "word1 = \"sea\"\n",
    "word2 = \"eat\"\n",
    "print(set_minDistance(word1, word2))"
   ]
  },
  {
   "cell_type": "code",
   "execution_count": null,
   "id": "c3784534",
   "metadata": {},
   "outputs": [],
   "source": []
  },
  {
   "cell_type": "markdown",
   "id": "5a899f08",
   "metadata": {},
   "source": [
    "#### Question 4\n",
    "\n",
    "You need to construct a binary tree from a string consisting of parenthesis and integers.\n",
    "\n",
    "The whole input represents a binary tree. It contains an integer followed by zero, one or two pairs of parenthesis. The integer represents the root's value and a pair of parenthesis contains a child binary tree with the same structure. You always start to construct the left child node of the parent first if it exists.\n",
    "\n",
    "Input: s = \"4(2(3)(1))(6(5))\"\n",
    "\n",
    "Output: [4,2,6,3,1,5]"
   ]
  },
  {
   "cell_type": "code",
   "execution_count": 10,
   "id": "95befbe1",
   "metadata": {},
   "outputs": [
    {
     "name": "stdout",
     "output_type": "stream",
     "text": [
      "[4, 2, 3, 1, 6, 5]\n"
     ]
    }
   ],
   "source": [
    "class set_TreeNode:\n",
    "    def __init__(self, value=0, left=None, right=None):\n",
    "        self.val = value\n",
    "        self.left = left\n",
    "        self.right = right\n",
    "\n",
    "def set_string2tree(s):\n",
    "    if not s:\n",
    "        return None\n",
    "    \n",
    "    stack = []\n",
    "    i = 0\n",
    "    \n",
    "    while i < len(s):\n",
    "        if s[i].isdigit() or s[i] == '-':\n",
    "            j = i\n",
    "            while j < len(s) and (s[j].isdigit() or s[j] == '-'):\n",
    "                j += 1\n",
    "            num = int(s[i:j])\n",
    "            node = set_TreeNode(num)\n",
    "            stack.append(node)\n",
    "            i = j\n",
    "        elif s[i] == '(':\n",
    "            i += 1\n",
    "        elif s[i] == ')':\n",
    "            parent = stack.pop()\n",
    "            if stack[-1].left is None:\n",
    "                stack[-1].left = parent\n",
    "            else:\n",
    "                stack[-1].right = parent\n",
    "            i += 1\n",
    "    \n",
    "    return stack[0] if stack else None\n",
    "\n",
    "def set_preorderTraversal(root):\n",
    "    if not root:\n",
    "        return []\n",
    "    result = [root.val]\n",
    "    result.extend(set_preorderTraversal(root.left))\n",
    "    result.extend(set_preorderTraversal(root.right))\n",
    "    return result\n",
    "\n",
    "s = \"4(2(3)(1))(6(5))\"\n",
    "root = set_string2tree(s)\n",
    "result = set_preorderTraversal(root)\n",
    "print(result)"
   ]
  },
  {
   "cell_type": "code",
   "execution_count": null,
   "id": "4a3e3ddf",
   "metadata": {},
   "outputs": [],
   "source": []
  },
  {
   "cell_type": "markdown",
   "id": "20aa0197",
   "metadata": {},
   "source": [
    "#### Question 5\n",
    "\n",
    "Given an array of characters chars, compress it using the following algorithm:\n",
    "\n",
    "Begin with an empty string s. For each group of consecutive repeating characters in chars:\n",
    "\n",
    "If the group's length is 1, append the character to s.\n",
    "Otherwise, append the character followed by the group's length.\n",
    "The compressed string s should not be returned separately, but instead, be stored in the input character array chars. Note that group lengths that are 10 or longer will be split into multiple characters in chars.\n",
    "\n",
    "After you are done modifying the input array, return the new length of the array.\n",
    "\n",
    "You must write an algorithm that uses only constant extra space.\n",
    "\n",
    "Example 1:\n",
    "\n",
    "Input: chars = [\"a\",\"a\",\"b\",\"b\",\"c\",\"c\",\"c\"]\n",
    "\n",
    "Output: Return 6, and the first 6 characters of the input array should be: [\"a\",\"2\",\"b\",\"2\",\"c\",\"3\"]\n",
    "\n",
    "Explanation:\n",
    "\n",
    "The groups are \"aa\", \"bb\", and \"ccc\". This compresses to \"a2b2c3\"."
   ]
  },
  {
   "cell_type": "code",
   "execution_count": 13,
   "id": "110aef59",
   "metadata": {},
   "outputs": [],
   "source": [
    "def compress(chars):\n",
    "    read, write = 0, 0\n",
    "    count = 1\n",
    "    \n",
    "    for i in range(1, len(chars)):\n",
    "        if chars[i] == chars[i-1]:\n",
    "            count += 1\n",
    "        else:\n",
    "            chars[write] = chars[read]\n",
    "            write += 1\n",
    "            if count > 1:\n",
    "                for digit in str(count):\n",
    "                    chars[write] = digit\n",
    "                    write += 1\n",
    "            count = 1\n",
    "            read = i\n",
    "    \n",
    "    chars[write] = chars[read]\n",
    "    write += 1\n",
    "    if count > 1:\n",
    "        for digit in str(count):\n",
    "            chars[write] = digit\n",
    "            write += 1\n",
    "    \n",
    "    return write"
   ]
  },
  {
   "cell_type": "code",
   "execution_count": 14,
   "id": "abc15ac1",
   "metadata": {},
   "outputs": [
    {
     "name": "stdout",
     "output_type": "stream",
     "text": [
      "6\n",
      "['a', '2', 'b', '2', 'c', '3']\n"
     ]
    }
   ],
   "source": [
    "chars = [\"a\",\"a\",\"b\",\"b\",\"c\",\"c\",\"c\"]\n",
    "new_length = compress(chars)\n",
    "print(new_length)\n",
    "print(chars[:new_length])"
   ]
  },
  {
   "cell_type": "code",
   "execution_count": null,
   "id": "d724cb6f",
   "metadata": {},
   "outputs": [],
   "source": []
  },
  {
   "cell_type": "markdown",
   "id": "1b1f5a63",
   "metadata": {},
   "source": [
    "#### Question 6\n",
    "\n",
    "Given two strings s and p, return an array of all the start indices of p's anagrams in s. You may return the answer in any order.\n",
    "\n",
    "An Anagram is a word or phrase formed by rearranging the letters of a different word or phrase, typically using all the original letters exactly once.\n",
    "\n",
    "Example 1:\n",
    "\n",
    "Input: s = \"cbaebabacd\", p = \"abc\"\n",
    "\n",
    "Output: [0,6]\n",
    "\n",
    "Explanation:\n",
    "\n",
    "The substring with start index = 0 is \"cba\", which is an anagram of \"abc\".\n",
    "\n",
    "The substring with start index = 6 is \"bac\", which is an anagram of \"abc\"."
   ]
  },
  {
   "cell_type": "code",
   "execution_count": 17,
   "id": "90d0b208",
   "metadata": {},
   "outputs": [],
   "source": [
    "from collections import Counter\n",
    "\n",
    "def find_Anagrams(s, p):\n",
    "    p_count = [0] * 26\n",
    "    s_count = [0] * 26\n",
    "    result = []\n",
    "    \n",
    "    for char in p:\n",
    "        p_count[ord(char) - ord('a')] += 1\n",
    "    \n",
    "    left = right = 0\n",
    "    while right < len(s):\n",
    "        s_count[ord(s[right]) - ord('a')] += 1\n",
    "        \n",
    "        if right - left + 1 > len(p):\n",
    "            s_count[ord(s[left]) - ord('a')] -= 1\n",
    "            left += 1\n",
    "        \n",
    "        if s_count == p_count:\n",
    "            result.append(left)\n",
    "        \n",
    "        right += 1\n",
    "    \n",
    "    return result"
   ]
  },
  {
   "cell_type": "code",
   "execution_count": 18,
   "id": "33a9dc5e",
   "metadata": {},
   "outputs": [
    {
     "name": "stdout",
     "output_type": "stream",
     "text": [
      "[0, 6]\n"
     ]
    }
   ],
   "source": [
    "s = \"cbaebabacd\"\n",
    "p = \"abc\"\n",
    "indices = find_Anagrams(s, p)\n",
    "print(indices)"
   ]
  },
  {
   "cell_type": "code",
   "execution_count": null,
   "id": "6680bb3a",
   "metadata": {},
   "outputs": [],
   "source": []
  },
  {
   "cell_type": "markdown",
   "id": "c0274f5d",
   "metadata": {},
   "source": [
    "#### Question 7\n",
    "\n",
    "Given an encoded string, return its decoded string.\n",
    "\n",
    "The encoding rule is: k[encoded_string], where the encoded_string inside the square brackets is being repeated exactly k times. Note that k is guaranteed to be a positive integer.\n",
    "\n",
    "You may assume that the input string is always valid; there are no extra white spaces, square brackets are well-formed, etc. Furthermore, you may assume that the original data does not contain any digits and that digits are only for those repeat numbers, k. For example, there will not be input like 3a or 2[4].\n",
    "\n",
    "The test cases are generated so that the length of the output will never exceed 105.\n",
    "\n",
    "Example 1:\n",
    "\n",
    "Input: s = \"3[a]2[bc]\"\n",
    "\n",
    "Output: \"aaabcbc\""
   ]
  },
  {
   "cell_type": "code",
   "execution_count": 19,
   "id": "e679311b",
   "metadata": {},
   "outputs": [],
   "source": [
    "def decodeString(s):\n",
    "    stack = []\n",
    "    \n",
    "    for char in s:\n",
    "        if char == ']':\n",
    "            encoded_str = ''\n",
    "            while stack and stack[-1] != '[':\n",
    "                encoded_str += stack.pop()\n",
    "            stack.pop()  # Pop the '[' character\n",
    "            \n",
    "            count_str = ''\n",
    "            while stack and stack[-1].isdigit():\n",
    "                count_str += stack.pop()\n",
    "            repetition_count = int(count_str[::-1])\n",
    "            \n",
    "            decoded_str = encoded_str[::-1] * repetition_count\n",
    "            stack.append(decoded_str)\n",
    "        else:\n",
    "            stack.append(char)\n",
    "    \n",
    "    return ''.join(stack[::-1])"
   ]
  },
  {
   "cell_type": "code",
   "execution_count": 20,
   "id": "fab341e7",
   "metadata": {},
   "outputs": [
    {
     "name": "stdout",
     "output_type": "stream",
     "text": [
      "bcbcaaa\n"
     ]
    }
   ],
   "source": [
    "s = \"3[a]2[bc]\"\n",
    "decoded_str = decodeString(s)\n",
    "print(decoded_str)"
   ]
  },
  {
   "cell_type": "code",
   "execution_count": null,
   "id": "25839d09",
   "metadata": {},
   "outputs": [],
   "source": []
  },
  {
   "cell_type": "markdown",
   "id": "264e8cdd",
   "metadata": {},
   "source": [
    "#### Question 8\n",
    "\n",
    "Given two strings s and goal, return true if you can swap two letters in s so the result is equal to goal, otherwise, return false.\n",
    "\n",
    "Swapping letters is defined as taking two indices i and j (0-indexed) such that i != j and swapping the characters at s[i] and s[j].\n",
    "\n",
    "For example, swapping at indices 0 and 2 in \"abcd\" results in \"cbad\".\n",
    "Example 1:\n",
    "\n",
    "Input: s = \"ab\", goal = \"ba\"\n",
    "\n",
    "Output: true\n",
    "\n",
    "Explanation: You can swap s[0] = 'a' and s[1] = 'b' to get \"ba\", which is equal to goal."
   ]
  },
  {
   "cell_type": "code",
   "execution_count": 21,
   "id": "ba8bc3a6",
   "metadata": {},
   "outputs": [],
   "source": [
    "def buddyStrings(s, goal):\n",
    "    if len(s) != len(goal):\n",
    "        return False\n",
    "\n",
    "    mismatched = []\n",
    "    indices = []\n",
    "\n",
    "    for i in range(len(s)):\n",
    "        if s[i] != goal[i]:\n",
    "            mismatched.append(s[i])\n",
    "            indices.append(i)\n",
    "\n",
    "        if len(mismatched) > 2:\n",
    "            return False\n",
    "\n",
    "    if len(mismatched) != 2:\n",
    "        return False\n",
    "\n",
    "    if s[indices[0]] == goal[indices[1]] and s[indices[1]] == goal[indices[0]]:\n",
    "        return True\n",
    "    else:\n",
    "        return False"
   ]
  },
  {
   "cell_type": "code",
   "execution_count": 22,
   "id": "822e3020",
   "metadata": {},
   "outputs": [
    {
     "name": "stdout",
     "output_type": "stream",
     "text": [
      "True\n"
     ]
    }
   ],
   "source": [
    "s = \"ab\"\n",
    "goal = \"ba\"\n",
    "result = buddyStrings(s, goal)\n",
    "print(result)"
   ]
  },
  {
   "cell_type": "code",
   "execution_count": null,
   "id": "fa10cc9b",
   "metadata": {},
   "outputs": [],
   "source": []
  }
 ],
 "metadata": {
  "kernelspec": {
   "display_name": "Python 3 (ipykernel)",
   "language": "python",
   "name": "python3"
  },
  "language_info": {
   "codemirror_mode": {
    "name": "ipython",
    "version": 3
   },
   "file_extension": ".py",
   "mimetype": "text/x-python",
   "name": "python",
   "nbconvert_exporter": "python",
   "pygments_lexer": "ipython3",
   "version": "3.11.2"
  }
 },
 "nbformat": 4,
 "nbformat_minor": 5
}
