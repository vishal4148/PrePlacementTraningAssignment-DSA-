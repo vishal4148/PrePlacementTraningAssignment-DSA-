{
 "cells": [
  {
   "cell_type": "markdown",
   "id": "758983c1",
   "metadata": {},
   "source": [
    "#### Question 1\n",
    "Given preorder of a binary tree, calculate its depth(or height) [starting from depth 0]. The preorder is given as a string with two possible characters.\n",
    "\n",
    "‘l’ denotes the leaf\n",
    "‘n’ denotes internal node\n",
    "The given tree can be seen as a full binary tree where every node has 0 or two children. The two children of a node can ‘n’ or ‘l’ or mix of both.\n",
    "\n",
    "Examples :\n",
    "\n",
    "Input : nlnll Output : 2"
   ]
  },
  {
   "cell_type": "code",
   "execution_count": 1,
   "id": "1c6a9e25",
   "metadata": {},
   "outputs": [
    {
     "name": "stdout",
     "output_type": "stream",
     "text": [
      "3\n"
     ]
    }
   ],
   "source": [
    "def findDepthRec(tree, n, index) :\n",
    "    if (index[0] >= n or tree[index[0]] == 'l'):\n",
    "        return 0\n",
    "\n",
    "    index[0] += 1\n",
    "    left = findDepthRec(tree, n, index)\n",
    "\n",
    "    index[0] += 1\n",
    "    right = findDepthRec(tree, n, index)\n",
    "    return (max(left, right) + 1)\n",
    "\n",
    "def findDepth(tree, n) :\n",
    "\n",
    "    index = [0]\n",
    "    return findDepthRec(tree, n, index)\n",
    "\n",
    "\n",
    "tree= \"nlnnlll\"\n",
    "n = len(tree)\n",
    "print(findDepth(tree, n))"
   ]
  },
  {
   "cell_type": "code",
   "execution_count": null,
   "id": "f6ad8d94",
   "metadata": {},
   "outputs": [],
   "source": []
  },
  {
   "cell_type": "markdown",
   "id": "c2ecc403",
   "metadata": {},
   "source": [
    "#### Question 2\n",
    "Given a Binary tree, the task is to print the left view of the Binary Tree. The left view of a Binary Tree is a set of leftmost nodes for every level."
   ]
  },
  {
   "cell_type": "code",
   "execution_count": 2,
   "id": "d86ff877",
   "metadata": {},
   "outputs": [
    {
     "name": "stdout",
     "output_type": "stream",
     "text": [
      "10 2 7 14 "
     ]
    }
   ],
   "source": [
    "class Node:\n",
    "    def __init__(self, data):\n",
    "        self.data = data\n",
    "        self.left = None\n",
    "        self.right = None\n",
    "\n",
    "\n",
    "def leftViewUtil(root, level, max_level):\n",
    "    if root is None:\n",
    "        return\n",
    "\n",
    "    if (max_level[0] < level):\n",
    "        print (root.data, end = \" \")\n",
    "        max_level[0] = level\n",
    "\n",
    "    leftViewUtil(root.left, level + 1, max_level)\n",
    "    leftViewUtil(root.right, level + 1, max_level)\n",
    "\n",
    "def leftView(root):\n",
    "    max_level = [0]\n",
    "    leftViewUtil(root, 1, max_level)\n",
    "\n",
    "\n",
    "root = Node(10)\n",
    "root.left = Node(2)\n",
    "root.right = Node(3)\n",
    "root.left.left = Node(7)\n",
    "root.left.right = Node(8)\n",
    "root.right.right = Node(15)\n",
    "root.right.left = Node(12)\n",
    "root.right.right.left = Node(14)\n",
    "leftView(root)"
   ]
  },
  {
   "cell_type": "code",
   "execution_count": null,
   "id": "b7e5d82d",
   "metadata": {},
   "outputs": [],
   "source": []
  },
  {
   "cell_type": "markdown",
   "id": "722d33e9",
   "metadata": {},
   "source": [
    "#### Question 3\n",
    "Given a Binary Tree, print the Right view of it.\n",
    "\n",
    "The right view of a Binary Tree is a set of nodes visible when the tree is visited from the Right side."
   ]
  },
  {
   "cell_type": "code",
   "execution_count": 3,
   "id": "64ed20f5",
   "metadata": {},
   "outputs": [
    {
     "name": "stdout",
     "output_type": "stream",
     "text": [
      "1 \n",
      "3 \n",
      "7 \n",
      "8 \n"
     ]
    }
   ],
   "source": [
    "class Node:\n",
    "    def __init__(self, item):\n",
    "        self.data = item\n",
    "        self.left = None\n",
    "        self.right = None\n",
    "\n",
    "def rightViewUtil(root, level, max_level):\n",
    "    if root is None:\n",
    "        return\n",
    "\n",
    "    if (max_level[0] < level):\n",
    "        print(\"%d \" % (root.data))\n",
    "        max_level[0] = level\n",
    "\n",
    "    rightViewUtil(root.right, level+1, max_level)\n",
    "    rightViewUtil(root.left, level+1, max_level)\n",
    "\n",
    "\n",
    "def rightView(root):\n",
    "    max_level = [0]\n",
    "    rightViewUtil(root, 1, max_level)\n",
    "\n",
    "root = Node(1)\n",
    "root.left = Node(2)\n",
    "root.right = Node(3)\n",
    "root.left.left = Node(4)\n",
    "root.left.right = Node(5)\n",
    "root.right.left = Node(6)\n",
    "root.right.right = Node(7)\n",
    "root.right.left.right = Node(8)\n",
    "\n",
    "rightView(root)"
   ]
  },
  {
   "cell_type": "code",
   "execution_count": null,
   "id": "1f3ca308",
   "metadata": {},
   "outputs": [],
   "source": []
  },
  {
   "cell_type": "markdown",
   "id": "242e925b",
   "metadata": {},
   "source": [
    "#### Question 4\n",
    "Given a Binary Tree, The task is to print the bottom view from left to right. A node x is there in output if x is the bottommost node at its horizontal distance. The horizontal distance of the left child of a node x is equal to a horizontal distance of x minus 1, and that of a right child is the horizontal distance of x plus 1."
   ]
  },
  {
   "cell_type": "code",
   "execution_count": 4,
   "id": "6cd1f8bb",
   "metadata": {},
   "outputs": [
    {
     "name": "stdout",
     "output_type": "stream",
     "text": [
      "Bottom view of the given binary tree :\n",
      "5 10 4 14 25 "
     ]
    }
   ],
   "source": [
    "class Node:\n",
    "    def __init__(self, key = None,\n",
    "                    left = None,\n",
    "                    right = None):\n",
    "\n",
    "        self.data = key\n",
    "        self.left = left\n",
    "        self.right = right\n",
    "\n",
    "def printBottomView(root):\n",
    "\n",
    "    # Create a dictionary where\n",
    "    # key -> relative horizontal distance\n",
    "    # of the node from root node and\n",
    "    # value -> pair containing node's\n",
    "    # value and its level\n",
    "    d = dict()\n",
    "\n",
    "    printBottomViewUtil(root, d, 0, 0)\n",
    "\n",
    "    # Traverse the dictionary in sorted\n",
    "    # order of their keys and print\n",
    "    # the bottom view\n",
    "    for i in sorted(d.keys()):\n",
    "        print(d[i][0], end = \" \")\n",
    "\n",
    "def printBottomViewUtil(root, d, hd, level):\n",
    "\n",
    "    # Base case\n",
    "    if root is None:\n",
    "        return\n",
    "\n",
    "    # If current level is more than or equal\n",
    "    # to maximum level seen so far for the\n",
    "    # same horizontal distance or horizontal\n",
    "    # distance is seen for the first time,\n",
    "    # update the dictionary\n",
    "    if hd in d:\n",
    "        if level >= d[hd][1]:\n",
    "            d[hd] = [root.data, level]\n",
    "    else:\n",
    "        d[hd] = [root.data, level]\n",
    "\n",
    "    # recur for left subtree by decreasing\n",
    "    # horizontal distance and increasing\n",
    "    # level by 1\n",
    "    printBottomViewUtil(root.left, d, hd - 1,level + 1)\n",
    "\n",
    "    # recur for right subtree by increasing\n",
    "    # horizontal distance and increasing\n",
    "    # level by 1\n",
    "    printBottomViewUtil(root.right, d, hd + 1, level + 1)\n",
    "\n",
    "\n",
    "root = Node(20)\n",
    "root.left = Node(8)\n",
    "root.right = Node(22)\n",
    "root.left.left = Node(5)\n",
    "root.left.right = Node(3)\n",
    "root.right.left = Node(4)\n",
    "root.right.right = Node(25)\n",
    "root.left.right.left = Node(10)\n",
    "root.left.right.right = Node(14)\n",
    "\n",
    "print(\"Bottom view of the given binary tree :\")\n",
    "printBottomView(root)"
   ]
  },
  {
   "cell_type": "code",
   "execution_count": null,
   "id": "2899f2cb",
   "metadata": {},
   "outputs": [],
   "source": []
  }
 ],
 "metadata": {
  "kernelspec": {
   "display_name": "Python 3 (ipykernel)",
   "language": "python",
   "name": "python3"
  },
  "language_info": {
   "codemirror_mode": {
    "name": "ipython",
    "version": 3
   },
   "file_extension": ".py",
   "mimetype": "text/x-python",
   "name": "python",
   "nbconvert_exporter": "python",
   "pygments_lexer": "ipython3",
   "version": "3.11.2"
  }
 },
 "nbformat": 4,
 "nbformat_minor": 5
}
