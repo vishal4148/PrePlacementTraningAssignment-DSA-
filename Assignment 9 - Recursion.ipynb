{
 "cells": [
  {
   "cell_type": "markdown",
   "id": "3440a398",
   "metadata": {},
   "source": [
    "#### **Question 1**\n",
    "\n",
    "Given an integer `n`, return *`true` if it is a power of two. Otherwise, return `false`*.\n",
    "\n",
    "An integer `n` is a power of two, if there exists an integer `x` such that `n == 2x`.\n",
    "\n",
    "**Example 1:**\n",
    "Input: n = 1 \n",
    "\n",
    "Output: true\n",
    "\n",
    "**Example 2:**\n",
    "Input: n = 16 \n",
    "\n",
    "Output: true\n",
    "\n",
    "**Example 3:**\n",
    "Input: n = 3 \n",
    "\n",
    "Output: false"
   ]
  },
  {
   "cell_type": "code",
   "execution_count": 1,
   "id": "00f5417f",
   "metadata": {},
   "outputs": [],
   "source": [
    "def isPowerOfTwo(n):\n",
    "    if n <= 0:\n",
    "        return False\n",
    "\n",
    "    return (n & (n - 1)) == 0"
   ]
  },
  {
   "cell_type": "code",
   "execution_count": 2,
   "id": "9a2dd422",
   "metadata": {},
   "outputs": [
    {
     "name": "stdout",
     "output_type": "stream",
     "text": [
      "True\n"
     ]
    }
   ],
   "source": [
    "n = 1\n",
    "result = isPowerOfTwo(n)\n",
    "print(result)"
   ]
  },
  {
   "cell_type": "code",
   "execution_count": 3,
   "id": "05230400",
   "metadata": {},
   "outputs": [
    {
     "name": "stdout",
     "output_type": "stream",
     "text": [
      "True\n"
     ]
    }
   ],
   "source": [
    "n = 16\n",
    "result = isPowerOfTwo(n)\n",
    "print(result)"
   ]
  },
  {
   "cell_type": "code",
   "execution_count": 4,
   "id": "a2e6d130",
   "metadata": {},
   "outputs": [
    {
     "name": "stdout",
     "output_type": "stream",
     "text": [
      "False\n"
     ]
    }
   ],
   "source": [
    "n = 3\n",
    "result = isPowerOfTwo(n)\n",
    "print(result)"
   ]
  },
  {
   "cell_type": "code",
   "execution_count": null,
   "id": "e2ad0ef3",
   "metadata": {},
   "outputs": [],
   "source": []
  },
  {
   "cell_type": "markdown",
   "id": "3ea370c7",
   "metadata": {},
   "source": [
    "#### Question 2\n",
    "\n",
    "Given a number n, find the sum of the first natural numbers.\n",
    "\n",
    "Example 1:\n",
    "\n",
    "Input: n = 3\n",
    "\n",
    "Output: 6\n",
    "\n",
    "Example 2:\n",
    "\n",
    "Input : 5\n",
    "\n",
    "Output : 15"
   ]
  },
  {
   "cell_type": "code",
   "execution_count": 5,
   "id": "438023a1",
   "metadata": {},
   "outputs": [],
   "source": [
    "def sumOfNaturalNumbers(n):\n",
    "    sum = (n * (n + 1)) // 2\n",
    "    return sum"
   ]
  },
  {
   "cell_type": "code",
   "execution_count": 6,
   "id": "c721acc8",
   "metadata": {},
   "outputs": [
    {
     "name": "stdout",
     "output_type": "stream",
     "text": [
      "6\n"
     ]
    }
   ],
   "source": [
    "n = 3\n",
    "result = sumOfNaturalNumbers(n)\n",
    "print(result)"
   ]
  },
  {
   "cell_type": "code",
   "execution_count": 7,
   "id": "ae4ef688",
   "metadata": {},
   "outputs": [
    {
     "name": "stdout",
     "output_type": "stream",
     "text": [
      "15\n"
     ]
    }
   ],
   "source": [
    "n = 5\n",
    "result = sumOfNaturalNumbers(n)\n",
    "print(result)"
   ]
  },
  {
   "cell_type": "code",
   "execution_count": null,
   "id": "fdcaf9ec",
   "metadata": {},
   "outputs": [],
   "source": []
  },
  {
   "cell_type": "markdown",
   "id": "259bba03",
   "metadata": {},
   "source": [
    "#### Question 3\n",
    "\n",
    "Given a positive integer, N. Find the factorial of N.\n",
    "\n",
    "Example 1:\n",
    "\n",
    "Input: N = 5\n",
    "\n",
    "Output: 120\n",
    "\n",
    "Example 2:\n",
    "\n",
    "Input: N = 4\n",
    "\n",
    "Output: 24"
   ]
  },
  {
   "cell_type": "code",
   "execution_count": 8,
   "id": "7ad7fafd",
   "metadata": {},
   "outputs": [],
   "source": [
    "def factorial(N):\n",
    "    factorial = 1\n",
    "\n",
    "    for i in range(1, N + 1):\n",
    "        factorial *= i\n",
    "\n",
    "    return factorial"
   ]
  },
  {
   "cell_type": "code",
   "execution_count": 9,
   "id": "9bfb42b8",
   "metadata": {},
   "outputs": [
    {
     "name": "stdout",
     "output_type": "stream",
     "text": [
      "120\n"
     ]
    }
   ],
   "source": [
    "N = 5\n",
    "result = factorial(N)\n",
    "print(result)"
   ]
  },
  {
   "cell_type": "code",
   "execution_count": null,
   "id": "e783531f",
   "metadata": {},
   "outputs": [],
   "source": []
  },
  {
   "cell_type": "markdown",
   "id": "c2b038d9",
   "metadata": {},
   "source": [
    "#### Question 4\n",
    "\n",
    "Given a number N and a power P, the task is to find the exponent of this number raised to the given power, i.e. N^P.\n",
    "\n",
    "Example 1 :\n",
    "\n",
    "Input: N = 5, P = 2\n",
    "\n",
    "Output: 25\n",
    "\n",
    "Example 2 : Input: N = 2, P = 5\n",
    "\n",
    "Output: 32"
   ]
  },
  {
   "cell_type": "code",
   "execution_count": 10,
   "id": "f5d51dc6",
   "metadata": {},
   "outputs": [],
   "source": [
    "def exponent(N, P):\n",
    "    result = N ** P\n",
    "    return result"
   ]
  },
  {
   "cell_type": "code",
   "execution_count": 11,
   "id": "e344fd47",
   "metadata": {},
   "outputs": [
    {
     "name": "stdout",
     "output_type": "stream",
     "text": [
      "25\n"
     ]
    }
   ],
   "source": [
    "N = 5\n",
    "P = 2\n",
    "result = exponent(N, P)\n",
    "print(result)"
   ]
  },
  {
   "cell_type": "code",
   "execution_count": 12,
   "id": "ccd6930a",
   "metadata": {},
   "outputs": [
    {
     "name": "stdout",
     "output_type": "stream",
     "text": [
      "32\n"
     ]
    }
   ],
   "source": [
    "N = 2\n",
    "P = 5\n",
    "result = exponent(N, P)\n",
    "print(result)"
   ]
  },
  {
   "cell_type": "code",
   "execution_count": null,
   "id": "5a91610e",
   "metadata": {},
   "outputs": [],
   "source": []
  },
  {
   "cell_type": "markdown",
   "id": "17e0582b",
   "metadata": {},
   "source": [
    "#### Question 5\n",
    "\n",
    "Given an array of integers arr, the task is to find maximum element of that array using recursion.\n",
    "\n",
    "Example 1:\n",
    "\n",
    "Input: arr = {1, 4, 3, -5, -4, 8, 6}; Output: 8\n",
    "\n",
    "Example 2:\n",
    "\n",
    "Input: arr = {1, 4, 45, 6, 10, -8}; Output: 45"
   ]
  },
  {
   "cell_type": "code",
   "execution_count": 13,
   "id": "46dd69dc",
   "metadata": {},
   "outputs": [],
   "source": [
    "def findMax(arr):\n",
    "    if len(arr) == 1:\n",
    "        return arr[0]\n",
    "\n",
    "    mid = len(arr) // 2\n",
    "    left = arr[:mid]\n",
    "    right = arr[mid:]\n",
    "\n",
    "    max_left = findMax(left)\n",
    "    max_right = findMax(right)\n",
    "\n",
    "    return max(max_left, max_right)"
   ]
  },
  {
   "cell_type": "code",
   "execution_count": 14,
   "id": "70874f27",
   "metadata": {},
   "outputs": [
    {
     "name": "stdout",
     "output_type": "stream",
     "text": [
      "8\n"
     ]
    }
   ],
   "source": [
    "arr = [1, 4, 3, -5, -4, 8, 6]\n",
    "result = findMax(arr)\n",
    "print(result)"
   ]
  },
  {
   "cell_type": "code",
   "execution_count": 15,
   "id": "ec13ce88",
   "metadata": {},
   "outputs": [
    {
     "name": "stdout",
     "output_type": "stream",
     "text": [
      "45\n"
     ]
    }
   ],
   "source": [
    "arr = [1, 4, 45, 6, 10, -8]\n",
    "result = findMax(arr)\n",
    "print(result)"
   ]
  },
  {
   "cell_type": "code",
   "execution_count": null,
   "id": "adf0a5c9",
   "metadata": {},
   "outputs": [],
   "source": []
  },
  {
   "cell_type": "markdown",
   "id": "68b541c4",
   "metadata": {},
   "source": [
    "#### Question 6\n",
    "\n",
    "Given first term (a), common difference (d) and a integer N of the Arithmetic Progression series, the task is to find Nth term of the series.\n",
    "\n",
    "Example 1:\n",
    "\n",
    "Input : a = 2 d = 1 N = 5 Output : 6 The 5th term of the series is : 6\n",
    "\n",
    "Example 2:\n",
    "\n",
    "Input : a = 5 d = 2 N = 10 Output : 23 The 10th term of the series is : 23"
   ]
  },
  {
   "cell_type": "code",
   "execution_count": 16,
   "id": "7a350c05",
   "metadata": {},
   "outputs": [],
   "source": [
    "def findNthTerm(a, d, N):\n",
    "    nthTerm = a + (N - 1) * d\n",
    "    return nthTerm"
   ]
  },
  {
   "cell_type": "code",
   "execution_count": 17,
   "id": "443bb962",
   "metadata": {},
   "outputs": [
    {
     "name": "stdout",
     "output_type": "stream",
     "text": [
      "6\n"
     ]
    }
   ],
   "source": [
    "a = 2\n",
    "d = 1\n",
    "N = 5\n",
    "result = findNthTerm(a, d, N)\n",
    "print(result)"
   ]
  },
  {
   "cell_type": "code",
   "execution_count": 18,
   "id": "0a79fbb8",
   "metadata": {},
   "outputs": [
    {
     "name": "stdout",
     "output_type": "stream",
     "text": [
      "23\n"
     ]
    }
   ],
   "source": [
    "a = 5\n",
    "d = 2\n",
    "N = 10\n",
    "result = findNthTerm(a, d, N)\n",
    "print(result)"
   ]
  },
  {
   "cell_type": "code",
   "execution_count": null,
   "id": "e55b8a10",
   "metadata": {},
   "outputs": [],
   "source": []
  },
  {
   "cell_type": "markdown",
   "id": "305d2e16",
   "metadata": {},
   "source": [
    "#### Question 7\n",
    "\n",
    "Given a string S, the task is to write a program to print all permutations of a given string.\n",
    "\n",
    "Example 1:\n",
    "\n",
    "*Input:*\n",
    "\n",
    "S = “ABC”\n",
    "\n",
    "*Output:*\n",
    "\n",
    "“ABC”, “ACB”, “BAC”, “BCA”, “CBA”, “CAB”\n",
    "\n",
    "Example 2:\n",
    "\n",
    "*Input:*\n",
    "\n",
    "S = “XY”\n",
    "\n",
    "*Output:*\n",
    "\n",
    "“XY”, “YX”"
   ]
  },
  {
   "cell_type": "code",
   "execution_count": 19,
   "id": "82886325",
   "metadata": {},
   "outputs": [],
   "source": [
    "def permute(S):\n",
    "    if len(S) == 1:\n",
    "        return [S]\n",
    "\n",
    "    permutations = []\n",
    "    for i in range(len(S)):\n",
    "        ch = S[i]\n",
    "        rest = S[:i] + S[i+1:]\n",
    "        sub_permutations = permute(rest)\n",
    "        for perm in sub_permutations:\n",
    "            permutations.append(ch + perm)\n",
    "\n",
    "    return permutations"
   ]
  },
  {
   "cell_type": "code",
   "execution_count": 20,
   "id": "fbbdf42b",
   "metadata": {},
   "outputs": [
    {
     "name": "stdout",
     "output_type": "stream",
     "text": [
      "['ABC', 'ACB', 'BAC', 'BCA', 'CAB', 'CBA']\n"
     ]
    }
   ],
   "source": [
    "S = \"ABC\"\n",
    "result = permute(S)\n",
    "print(result)"
   ]
  },
  {
   "cell_type": "code",
   "execution_count": 21,
   "id": "fc6f778a",
   "metadata": {},
   "outputs": [
    {
     "name": "stdout",
     "output_type": "stream",
     "text": [
      "['XY', 'YX']\n"
     ]
    }
   ],
   "source": [
    "S = \"XY\"\n",
    "result = permute(S)\n",
    "print(result)"
   ]
  },
  {
   "cell_type": "code",
   "execution_count": null,
   "id": "4e836016",
   "metadata": {},
   "outputs": [],
   "source": []
  },
  {
   "cell_type": "markdown",
   "id": "37b74a0f",
   "metadata": {},
   "source": [
    "#### Question 8\n",
    "\n",
    "Given an array, find a product of all array elements.\n",
    "\n",
    "Example 1:\n",
    "\n",
    "Input : arr[] = {1, 2, 3, 4, 5} Output : 120 Example 2:\n",
    "\n",
    "Input : arr[] = {1, 6, 3} Output : 18"
   ]
  },
  {
   "cell_type": "code",
   "execution_count": 22,
   "id": "ec637151",
   "metadata": {},
   "outputs": [],
   "source": [
    "def productOfArray(arr):\n",
    "    product = 1\n",
    "    for num in arr:\n",
    "        product *= num\n",
    "    return product"
   ]
  },
  {
   "cell_type": "code",
   "execution_count": 23,
   "id": "98b40cc5",
   "metadata": {},
   "outputs": [
    {
     "name": "stdout",
     "output_type": "stream",
     "text": [
      "120\n"
     ]
    }
   ],
   "source": [
    "arr = [1, 2, 3, 4, 5]\n",
    "result = productOfArray(arr)\n",
    "print(result)"
   ]
  },
  {
   "cell_type": "code",
   "execution_count": 25,
   "id": "287ae37c",
   "metadata": {},
   "outputs": [
    {
     "name": "stdout",
     "output_type": "stream",
     "text": [
      "18\n"
     ]
    }
   ],
   "source": [
    "arr = [1, 6, 3]\n",
    "result = productOfArray(arr)\n",
    "print(result)"
   ]
  },
  {
   "cell_type": "code",
   "execution_count": null,
   "id": "dbe0caa3",
   "metadata": {},
   "outputs": [],
   "source": []
  }
 ],
 "metadata": {
  "kernelspec": {
   "display_name": "Python 3 (ipykernel)",
   "language": "python",
   "name": "python3"
  },
  "language_info": {
   "codemirror_mode": {
    "name": "ipython",
    "version": 3
   },
   "file_extension": ".py",
   "mimetype": "text/x-python",
   "name": "python",
   "nbconvert_exporter": "python",
   "pygments_lexer": "ipython3",
   "version": "3.11.2"
  }
 },
 "nbformat": 4,
 "nbformat_minor": 5
}
