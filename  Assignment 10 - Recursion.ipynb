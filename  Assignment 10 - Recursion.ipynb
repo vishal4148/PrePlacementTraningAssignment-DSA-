{
 "cells": [
  {
   "cell_type": "markdown",
   "id": "61527e1a",
   "metadata": {},
   "source": [
    "#### Question 1\n",
    "\n",
    "Given an integer n, return true if it is a power of three. Otherwise, return false.\n",
    "\n",
    "An integer n is a power of three, if there exists an integer x such that n == 3x.\n",
    "\n",
    "Example 1:\n",
    "\n",
    "Input: n = 27 Output: true Explanation: 27 = 33\n",
    "\n",
    "Example 2:\n",
    "\n",
    "Input: n = 0 Output: false Explanation: There is no x where 3x = 0.\n",
    "\n",
    "Example 3:\n",
    "\n",
    "Input: n = -1 Output: false Explanation: There is no x where 3x = (-1)"
   ]
  },
  {
   "cell_type": "code",
   "execution_count": 1,
   "id": "9dced1f1",
   "metadata": {},
   "outputs": [],
   "source": [
    "def isPowerOfThree(n):\n",
    "    if n <= 0:\n",
    "        return False\n",
    "\n",
    "    while n % 3 == 0:\n",
    "        n //= 3\n",
    "\n",
    "    return n == 1"
   ]
  },
  {
   "cell_type": "code",
   "execution_count": 2,
   "id": "5f116d88",
   "metadata": {},
   "outputs": [
    {
     "name": "stdout",
     "output_type": "stream",
     "text": [
      "True\n"
     ]
    }
   ],
   "source": [
    "n = 27\n",
    "result = isPowerOfThree(n)\n",
    "print(result)"
   ]
  },
  {
   "cell_type": "code",
   "execution_count": 3,
   "id": "fa0336b3",
   "metadata": {},
   "outputs": [
    {
     "name": "stdout",
     "output_type": "stream",
     "text": [
      "False\n"
     ]
    }
   ],
   "source": [
    "n = 0\n",
    "result = isPowerOfThree(n)\n",
    "print(result)"
   ]
  },
  {
   "cell_type": "code",
   "execution_count": 4,
   "id": "4c2d561e",
   "metadata": {},
   "outputs": [
    {
     "name": "stdout",
     "output_type": "stream",
     "text": [
      "False\n"
     ]
    }
   ],
   "source": [
    "n = -1\n",
    "result = isPowerOfThree(n)\n",
    "print(result)"
   ]
  },
  {
   "cell_type": "code",
   "execution_count": null,
   "id": "1cd36af9",
   "metadata": {},
   "outputs": [],
   "source": []
  },
  {
   "cell_type": "markdown",
   "id": "c9792ff5",
   "metadata": {},
   "source": [
    "#### Question 2\n",
    "\n",
    "You have a list arr of all integers in the range [1, n] sorted in a strictly increasing order. Apply the following algorithm on arr:\n",
    "\n",
    "Starting from left to right, remove the first number and every other number afterward until you reach the end of the list. \n",
    "\n",
    "Repeat the previous step again, but this time from right to left, remove the rightmost number and every other number from the remaining numbers.\n",
    "\n",
    "Keep repeating the steps again, alternating left to right and right to left, until a single number remains.\n",
    "Given the integer n, return the last number that remains in arr.\n",
    "\n",
    "Example 1:\n",
    "\n",
    "Input: n = 9 Output: 6 Explanation: arr = [1, 2,3, 4,5, 6,7, 8,9] arr = [2,4, 6,8] arr = [2, 6] arr = [6]"
   ]
  },
  {
   "cell_type": "code",
   "execution_count": null,
   "id": "0ec6f952",
   "metadata": {},
   "outputs": [],
   "source": [
    "def set_lastRemainingHelper(arr, left, right, isLeftToRight):\n",
    "    if left == right:\n",
    "        return arr[left]\n",
    "\n",
    "    if isLeftToRight:\n",
    "        i = left\n",
    "        while i <= right:\n",
    "            arr.pop(i)\n",
    "            right -= 1\n",
    "            i += 1\n",
    "    else:\n",
    "        i = right\n",
    "        while i >= left:\n",
    "            arr.pop(i)\n",
    "            right -= 1\n",
    "            i -= 1\n",
    "\n",
    "    if isLeftToRight:\n",
    "        return set_lastRemainingHelper(arr, left + 1, right, False)\n",
    "    else:\n",
    "        return set_lastRemainingHelper(arr, left, right - 1, True)\n",
    "\n",
    "\n",
    "def set_lastRemaining(n):\n",
    "    arr = list(range(1, n + 1))\n",
    "    return set_lastRemainingHelper(arr, 0, n - 1, True)\n",
    "\n",
    "n = 9\n",
    "result = set_lastRemaining(n)\n",
    "print(result)"
   ]
  },
  {
   "cell_type": "code",
   "execution_count": null,
   "id": "8d29fdd9",
   "metadata": {},
   "outputs": [],
   "source": []
  },
  {
   "cell_type": "markdown",
   "id": "d8d29abb",
   "metadata": {},
   "source": [
    "#### Question 3\n",
    "\n",
    "Given a set represented as a string, write a recursive code to print all subsets of it. The subsets can be printed in any order.\n",
    "\n",
    "Example 1:\n",
    "\n",
    "Input :  set = “abc”\n",
    "\n",
    "Output : { “”, “a”, “b”, “c”, “ab”, “ac”, “bc”, “abc”}\n",
    "\n",
    "Example 2:\n",
    "\n",
    "Input : set = “abcd”\n",
    "\n",
    "Output : { “”, “a” ,”ab” ,”abc” ,”abcd”, “abd” ,”ac” ,”acd”, “ad” ,”b”, “bc” ,”bcd” ,”bd” ,”c” ,”cd” ,”d” }"
   ]
  },
  {
   "cell_type": "code",
   "execution_count": 6,
   "id": "28650778",
   "metadata": {},
   "outputs": [],
   "source": [
    "def printSubsetsHelper(set, subset, index):\n",
    "    if index == len(set):\n",
    "        print(subset)\n",
    "        return\n",
    "\n",
    "    # Include current element in the subset\n",
    "    printSubsetsHelper(set, subset + set[index], index + 1)\n",
    "\n",
    "    # Exclude current element from the subset\n",
    "    printSubsetsHelper(set, subset, index + 1)\n",
    "\n",
    "def printSubsets(s):\n",
    "    subset = \"\"\n",
    "    index = 0\n",
    "    printSubsetsHelper(s, subset, index)"
   ]
  },
  {
   "cell_type": "code",
   "execution_count": 7,
   "id": "04e5d9a2",
   "metadata": {},
   "outputs": [
    {
     "name": "stdout",
     "output_type": "stream",
     "text": [
      "abc\n",
      "ab\n",
      "ac\n",
      "a\n",
      "bc\n",
      "b\n",
      "c\n",
      "\n"
     ]
    }
   ],
   "source": [
    "set = \"abc\"\n",
    "printSubsets(set)"
   ]
  },
  {
   "cell_type": "code",
   "execution_count": null,
   "id": "a078ddb1",
   "metadata": {},
   "outputs": [],
   "source": []
  },
  {
   "cell_type": "markdown",
   "id": "835bf970",
   "metadata": {},
   "source": [
    "#### Question 4\n",
    "\n",
    "Given a string calculate length of the string using recursion.\n",
    "\n",
    "Examples:\n",
    "\n",
    "Input : str = \"abcd\" Output :4\n",
    "\n",
    "Input : str = \"GEEKSFORGEEKS\" Output :13"
   ]
  },
  {
   "cell_type": "code",
   "execution_count": 8,
   "id": "28bb174a",
   "metadata": {},
   "outputs": [],
   "source": [
    "def calculateLength(str):\n",
    "    if str == '':\n",
    "        return 0\n",
    "    else:\n",
    "        return 1 + calculateLength(str[1:])"
   ]
  },
  {
   "cell_type": "markdown",
   "id": "6ad6eace",
   "metadata": {},
   "source": [
    "##### test case"
   ]
  },
  {
   "cell_type": "code",
   "execution_count": 9,
   "id": "5eee4314",
   "metadata": {},
   "outputs": [
    {
     "name": "stdout",
     "output_type": "stream",
     "text": [
      "Length of str1: 4\n"
     ]
    }
   ],
   "source": [
    "str1 = \"abcd\"\n",
    "print(\"Length of str1:\", calculateLength(str1))"
   ]
  },
  {
   "cell_type": "code",
   "execution_count": 10,
   "id": "4135ff05",
   "metadata": {},
   "outputs": [
    {
     "name": "stdout",
     "output_type": "stream",
     "text": [
      "Length of str2: 13\n"
     ]
    }
   ],
   "source": [
    "str2 = \"GEEKSFORGEEKS\"\n",
    "print(\"Length of str2:\", calculateLength(str2))"
   ]
  },
  {
   "cell_type": "code",
   "execution_count": null,
   "id": "6fe1f947",
   "metadata": {},
   "outputs": [],
   "source": []
  },
  {
   "cell_type": "markdown",
   "id": "b712c620",
   "metadata": {},
   "source": [
    "#### Question 5\n",
    "\n",
    "We are given a string S, we need to find count of all contiguous substrings starting and ending with same character.\n",
    "\n",
    "Examples :\n",
    "\n",
    "Input : S = \"abcab\" Output : 7 There are 15 substrings of \"abcab\" a, ab, abc, abca, abcab, b, bc, bca bcab, c, ca, cab, a, ab, b Out of the above substrings, there are 7 substrings : a, abca, b, bcab, c, a and b.\n",
    "\n",
    "Input : S = \"aba\" Output : 4 The substrings are a, b, a and aba"
   ]
  },
  {
   "cell_type": "code",
   "execution_count": 11,
   "id": "16185293",
   "metadata": {},
   "outputs": [],
   "source": [
    "def countSubstrings(s):\n",
    "    count = 0\n",
    "    n = len(s)\n",
    "    \n",
    "    for i in range(n):\n",
    "        count += 1  # Count single character substrings\n",
    "        left = i - 1\n",
    "        right = i + 1\n",
    "        \n",
    "        while left >= 0 and right < n and s[left] == s[right]:\n",
    "            count += 1\n",
    "            left -= 1\n",
    "            right += 1\n",
    "\n",
    "    return count"
   ]
  },
  {
   "cell_type": "markdown",
   "id": "7ccb4ad6",
   "metadata": {},
   "source": [
    "##### test case"
   ]
  },
  {
   "cell_type": "code",
   "execution_count": 12,
   "id": "7236a890",
   "metadata": {},
   "outputs": [
    {
     "name": "stdout",
     "output_type": "stream",
     "text": [
      "Count of substrings: 5\n"
     ]
    }
   ],
   "source": [
    "s1 = \"abcab\"\n",
    "print(\"Count of substrings:\", countSubstrings(s1))"
   ]
  },
  {
   "cell_type": "code",
   "execution_count": 13,
   "id": "cab3c8d4",
   "metadata": {},
   "outputs": [
    {
     "name": "stdout",
     "output_type": "stream",
     "text": [
      "Count of substrings: 4\n"
     ]
    }
   ],
   "source": [
    "s2 = \"aba\"\n",
    "print(\"Count of substrings:\", countSubstrings(s2))"
   ]
  },
  {
   "cell_type": "code",
   "execution_count": null,
   "id": "c28da49b",
   "metadata": {},
   "outputs": [],
   "source": []
  },
  {
   "cell_type": "markdown",
   "id": "193d0155",
   "metadata": {},
   "source": [
    "#### Question 6\n",
    "\n",
    "The tower of Hanoi is a famous puzzle where we have three rods and N disks. The objective of the puzzle is to move the entire stack to another rod. You are given the number of discs N. Initially, these discs are in the rod 1. You need to print all the steps of discs movement so that all the discs reach the 3rd rod. Also, you need to find the total moves.Note: The discs are arranged such that the top disc is numbered 1 and the bottom-most disc is numbered N. Also, all the discs have different sizes and a bigger disc cannot be put on the top of a smaller disc. Refer the provided link to get a better clarity about the puzzle.\n",
    "\n",
    "Example 1:\n",
    "\n",
    "Input: N = 2 Output: move disk 1 from rod 1 to rod 2 move disk 2 from rod 1 to rod 3 move disk 1 from rod 2 to rod 3 3 Explanation:For N=2 , steps will be as follows in the example and total 3 steps will be taken.\n",
    "\n",
    "Example 2:\n",
    "\n",
    "Input: N = 3 Output: move disk 1 from rod 1 to rod 3 move disk 2 from rod 1 to rod 2 move disk 1 from rod 3 to rod 2 move disk 3 from rod 1 to rod 3 move disk 1 from rod 2 to rod 1 move disk 2 from rod 2 to rod 3 move disk 1 from rod 1 to rod 3 7 Explanation:For N=3 , steps will be as follows in the example and total 7 steps will be taken."
   ]
  },
  {
   "cell_type": "code",
   "execution_count": 14,
   "id": "60007ff1",
   "metadata": {},
   "outputs": [],
   "source": [
    "def towerOfHanoi(n, source, destination, auxiliary):\n",
    "    if n == 1:\n",
    "        print(\"Move disk 1 from rod\", source, \"to rod\", destination)\n",
    "        return 1\n",
    "\n",
    "    moves = 0\n",
    "\n",
    "    # Move (n-1) disks from source to auxiliary rod\n",
    "    moves += towerOfHanoi(n-1, source, auxiliary, destination)\n",
    "\n",
    "    # Move the nth disk from source to destination rod\n",
    "    print(\"Move disk\", n, \"from rod\", source, \"to rod\", destination)\n",
    "    moves += 1\n",
    "\n",
    "    # Move (n-1) disks from auxiliary to destination rod\n",
    "    moves += towerOfHanoi(n-1, auxiliary, destination, source)\n",
    "\n",
    "    return moves"
   ]
  },
  {
   "cell_type": "markdown",
   "id": "2d6f3e7f",
   "metadata": {},
   "source": [
    "##### test case"
   ]
  },
  {
   "cell_type": "code",
   "execution_count": 15,
   "id": "c683f955",
   "metadata": {},
   "outputs": [
    {
     "name": "stdout",
     "output_type": "stream",
     "text": [
      "Move disk 1 from rod 1 to rod 2\n",
      "Move disk 2 from rod 1 to rod 3\n",
      "Move disk 1 from rod 2 to rod 3\n",
      "Total moves: 3\n"
     ]
    }
   ],
   "source": [
    "N = 2\n",
    "print(\"Total moves:\", towerOfHanoi(N, 1, 3, 2))"
   ]
  },
  {
   "cell_type": "code",
   "execution_count": 16,
   "id": "f30741b2",
   "metadata": {},
   "outputs": [
    {
     "name": "stdout",
     "output_type": "stream",
     "text": [
      "Move disk 1 from rod 1 to rod 3\n",
      "Move disk 2 from rod 1 to rod 2\n",
      "Move disk 1 from rod 3 to rod 2\n",
      "Move disk 3 from rod 1 to rod 3\n",
      "Move disk 1 from rod 2 to rod 1\n",
      "Move disk 2 from rod 2 to rod 3\n",
      "Move disk 1 from rod 1 to rod 3\n",
      "Total moves: 7\n"
     ]
    }
   ],
   "source": [
    "N = 3\n",
    "print(\"Total moves:\", towerOfHanoi(N, 1, 3, 2))"
   ]
  },
  {
   "cell_type": "code",
   "execution_count": null,
   "id": "b0df6f34",
   "metadata": {},
   "outputs": [],
   "source": []
  },
  {
   "cell_type": "markdown",
   "id": "13549f3b",
   "metadata": {},
   "source": [
    "#### Question 7\n",
    "\n",
    "Given a string str, the task is to print all the permutations of str. A permutation is an arrangement of all or part of a set of objects, with regard to the order of the arrangement. For instance, the words ‘bat’ and ‘tab’ represents two distinct permutation (or arrangements) of a similar three letter word.\n",
    "\n",
    "Examples:\n",
    "\n",
    "Input: str = “cd”\n",
    "\n",
    "Output: cd dc\n",
    "\n",
    "Input: str = “abb”\n",
    "\n",
    "Output: abb abb bab bba bab bba"
   ]
  },
  {
   "cell_type": "code",
   "execution_count": 17,
   "id": "e798de6e",
   "metadata": {},
   "outputs": [],
   "source": [
    "def permute(s, l, r):\n",
    "    if l == r:\n",
    "        print(''.join(s))\n",
    "    else:\n",
    "        for i in range(l, r + 1):\n",
    "            s[l], s[i] = s[i], s[l] \n",
    "            permute(s, l + 1, r)\n",
    "            s[l], s[i] = s[i], s[l] "
   ]
  },
  {
   "cell_type": "code",
   "execution_count": 18,
   "id": "4e41f22a",
   "metadata": {},
   "outputs": [
    {
     "name": "stdout",
     "output_type": "stream",
     "text": [
      "cd\n",
      "dc\n"
     ]
    }
   ],
   "source": [
    "str = \"cd\"\n",
    "n = len(str)\n",
    "s = list(str)\n",
    "permute(s, 0, n - 1)"
   ]
  },
  {
   "cell_type": "code",
   "execution_count": 19,
   "id": "2ff42ceb",
   "metadata": {},
   "outputs": [
    {
     "name": "stdout",
     "output_type": "stream",
     "text": [
      "abb\n",
      "abb\n",
      "bab\n",
      "bba\n",
      "bba\n",
      "bab\n"
     ]
    }
   ],
   "source": [
    "str = \"abb\"\n",
    "n = len(str)\n",
    "s = list(str)\n",
    "permute(s, 0, n - 1)"
   ]
  },
  {
   "cell_type": "code",
   "execution_count": null,
   "id": "d9b50d3d",
   "metadata": {},
   "outputs": [],
   "source": []
  },
  {
   "cell_type": "markdown",
   "id": "bb54c37c",
   "metadata": {},
   "source": [
    "#### Question 8\n",
    "\n",
    "Given a string, count total number of consonants in it. A consonant is an English alphabet character that is not vowel (a, e, i, o and u). Examples of constants are b, c, d, f, and g.\n",
    "\n",
    "Examples :\n",
    "\n",
    "Input : abc de Output : 3 There are three consonants b, c and d.\n",
    "\n",
    "Input : geeksforgeeks portal Output : 12"
   ]
  },
  {
   "cell_type": "code",
   "execution_count": 20,
   "id": "d4b68cf5",
   "metadata": {},
   "outputs": [],
   "source": [
    "def count_consonants(string):\n",
    "    vowels = 'aeiouAEIOU'\n",
    "    count = 0\n",
    "    for char in string:\n",
    "        if char.isalpha() and char not in vowels:\n",
    "            count += 1\n",
    "    return count"
   ]
  },
  {
   "cell_type": "code",
   "execution_count": 21,
   "id": "6ba52b54",
   "metadata": {},
   "outputs": [
    {
     "name": "stdout",
     "output_type": "stream",
     "text": [
      "Total consonants: 3\n"
     ]
    }
   ],
   "source": [
    "str1 = \"abc de\"\n",
    "print(\"Total consonants:\", count_consonants(str1))"
   ]
  },
  {
   "cell_type": "code",
   "execution_count": 22,
   "id": "26e259cc",
   "metadata": {},
   "outputs": [
    {
     "name": "stdout",
     "output_type": "stream",
     "text": [
      "Total consonants: 12\n"
     ]
    }
   ],
   "source": [
    "str2 = \"geeksforgeeks portal\"\n",
    "print(\"Total consonants:\", count_consonants(str2))"
   ]
  },
  {
   "cell_type": "code",
   "execution_count": null,
   "id": "3e0b64c6",
   "metadata": {},
   "outputs": [],
   "source": []
  }
 ],
 "metadata": {
  "kernelspec": {
   "display_name": "Python 3 (ipykernel)",
   "language": "python",
   "name": "python3"
  },
  "language_info": {
   "codemirror_mode": {
    "name": "ipython",
    "version": 3
   },
   "file_extension": ".py",
   "mimetype": "text/x-python",
   "name": "python",
   "nbconvert_exporter": "python",
   "pygments_lexer": "ipython3",
   "version": "3.11.2"
  }
 },
 "nbformat": 4,
 "nbformat_minor": 5
}
